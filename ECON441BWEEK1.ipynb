{
  "nbformat": 4,
  "nbformat_minor": 0,
  "metadata": {
    "colab": {
      "provenance": []
    },
    "kernelspec": {
      "name": "python3",
      "display_name": "Python 3"
    },
    "language_info": {
      "name": "python"
    }
  },
  "cells": [
    {
      "cell_type": "markdown",
      "source": [
        "**ECON441B Week1 In-class Assignment**"
      ],
      "metadata": {
        "id": "A_YIUvxw_ote"
      }
    },
    {
      "cell_type": "markdown",
      "source": [
        "Step 1.) Make a Jupyter notebook that queries some data (Any data) from google drive"
      ],
      "metadata": {
        "id": "91HD2kEc_KJU"
      }
    },
    {
      "cell_type": "code",
      "source": [
        "import pandas as pd \n",
        "from google.colab import drive\n",
        "import matplotlib.pyplot as plt"
      ],
      "metadata": {
        "id": "6sAqnE4q8N_w"
      },
      "execution_count": 20,
      "outputs": []
    },
    {
      "cell_type": "code",
      "source": [
        "drive.mount(\"/content/gdrive\",force_remount=True)"
      ],
      "metadata": {
        "colab": {
          "base_uri": "https://localhost:8080/"
        },
        "id": "iuSk7R4n8XZf",
        "outputId": "45c47592-6377-49e7-bf0e-6271501b453d"
      },
      "execution_count": 21,
      "outputs": [
        {
          "output_type": "stream",
          "name": "stdout",
          "text": [
            "Mounted at /content/gdrive\n"
          ]
        }
      ]
    },
    {
      "cell_type": "code",
      "source": [
        "data=pd.read_csv(\"/content/gdrive/MyDrive/ECON441B/bj.csv\")"
      ],
      "metadata": {
        "id": "opZWAZ6o85tR"
      },
      "execution_count": 22,
      "outputs": []
    },
    {
      "cell_type": "markdown",
      "source": [
        "Step 2.) Make a visualization"
      ],
      "metadata": {
        "id": "naP4qOPqAXgd"
      }
    },
    {
      "cell_type": "code",
      "source": [
        "data.head()"
      ],
      "metadata": {
        "colab": {
          "base_uri": "https://localhost:8080/",
          "height": 270
        },
        "id": "5CAYT4jLAcQQ",
        "outputId": "5a8b1314-6b4d-4507-a57a-1f78f1ee528a"
      },
      "execution_count": 23,
      "outputs": [
        {
          "output_type": "execute_result",
          "data": {
            "text/plain": [
              "   totalPrice         Lng        Lat  DOM  followers  square  livingRoom  \\\n",
              "0       343.0  116.360104  39.963352   17         40   41.77           1   \n",
              "1       493.0  116.507980  39.918360   15          7   92.35           2   \n",
              "2       239.0  116.325385  39.984968    1          0   48.00           1   \n",
              "3       450.0  116.445381  39.923460   77        114   66.32           3   \n",
              "4       346.0  116.513785  39.869796   14         21   60.79           2   \n",
              "\n",
              "   drawingRoom  kitchen  bathRoom  buildingType  constructionTime  \\\n",
              "0            1        1         1             0              2005   \n",
              "1            2        1         1             0              2006   \n",
              "2            1        1         1             0              1982   \n",
              "3            1        1         1             0              1993   \n",
              "4            1        1         1             1              1995   \n",
              "\n",
              "   ladderRatio  elevator  subway  communityAverage  \n",
              "0        0.200         1       0             65465  \n",
              "1        0.400         1       1             64855  \n",
              "2        0.250         1       1            117529  \n",
              "3        0.250         1       0             71466  \n",
              "4        0.333         0       1             46725  "
            ],
            "text/html": [
              "\n",
              "  <div id=\"df-558d0163-e9d8-42aa-82eb-77ec4f26a526\">\n",
              "    <div class=\"colab-df-container\">\n",
              "      <div>\n",
              "<style scoped>\n",
              "    .dataframe tbody tr th:only-of-type {\n",
              "        vertical-align: middle;\n",
              "    }\n",
              "\n",
              "    .dataframe tbody tr th {\n",
              "        vertical-align: top;\n",
              "    }\n",
              "\n",
              "    .dataframe thead th {\n",
              "        text-align: right;\n",
              "    }\n",
              "</style>\n",
              "<table border=\"1\" class=\"dataframe\">\n",
              "  <thead>\n",
              "    <tr style=\"text-align: right;\">\n",
              "      <th></th>\n",
              "      <th>totalPrice</th>\n",
              "      <th>Lng</th>\n",
              "      <th>Lat</th>\n",
              "      <th>DOM</th>\n",
              "      <th>followers</th>\n",
              "      <th>square</th>\n",
              "      <th>livingRoom</th>\n",
              "      <th>drawingRoom</th>\n",
              "      <th>kitchen</th>\n",
              "      <th>bathRoom</th>\n",
              "      <th>buildingType</th>\n",
              "      <th>constructionTime</th>\n",
              "      <th>ladderRatio</th>\n",
              "      <th>elevator</th>\n",
              "      <th>subway</th>\n",
              "      <th>communityAverage</th>\n",
              "    </tr>\n",
              "  </thead>\n",
              "  <tbody>\n",
              "    <tr>\n",
              "      <th>0</th>\n",
              "      <td>343.0</td>\n",
              "      <td>116.360104</td>\n",
              "      <td>39.963352</td>\n",
              "      <td>17</td>\n",
              "      <td>40</td>\n",
              "      <td>41.77</td>\n",
              "      <td>1</td>\n",
              "      <td>1</td>\n",
              "      <td>1</td>\n",
              "      <td>1</td>\n",
              "      <td>0</td>\n",
              "      <td>2005</td>\n",
              "      <td>0.200</td>\n",
              "      <td>1</td>\n",
              "      <td>0</td>\n",
              "      <td>65465</td>\n",
              "    </tr>\n",
              "    <tr>\n",
              "      <th>1</th>\n",
              "      <td>493.0</td>\n",
              "      <td>116.507980</td>\n",
              "      <td>39.918360</td>\n",
              "      <td>15</td>\n",
              "      <td>7</td>\n",
              "      <td>92.35</td>\n",
              "      <td>2</td>\n",
              "      <td>2</td>\n",
              "      <td>1</td>\n",
              "      <td>1</td>\n",
              "      <td>0</td>\n",
              "      <td>2006</td>\n",
              "      <td>0.400</td>\n",
              "      <td>1</td>\n",
              "      <td>1</td>\n",
              "      <td>64855</td>\n",
              "    </tr>\n",
              "    <tr>\n",
              "      <th>2</th>\n",
              "      <td>239.0</td>\n",
              "      <td>116.325385</td>\n",
              "      <td>39.984968</td>\n",
              "      <td>1</td>\n",
              "      <td>0</td>\n",
              "      <td>48.00</td>\n",
              "      <td>1</td>\n",
              "      <td>1</td>\n",
              "      <td>1</td>\n",
              "      <td>1</td>\n",
              "      <td>0</td>\n",
              "      <td>1982</td>\n",
              "      <td>0.250</td>\n",
              "      <td>1</td>\n",
              "      <td>1</td>\n",
              "      <td>117529</td>\n",
              "    </tr>\n",
              "    <tr>\n",
              "      <th>3</th>\n",
              "      <td>450.0</td>\n",
              "      <td>116.445381</td>\n",
              "      <td>39.923460</td>\n",
              "      <td>77</td>\n",
              "      <td>114</td>\n",
              "      <td>66.32</td>\n",
              "      <td>3</td>\n",
              "      <td>1</td>\n",
              "      <td>1</td>\n",
              "      <td>1</td>\n",
              "      <td>0</td>\n",
              "      <td>1993</td>\n",
              "      <td>0.250</td>\n",
              "      <td>1</td>\n",
              "      <td>0</td>\n",
              "      <td>71466</td>\n",
              "    </tr>\n",
              "    <tr>\n",
              "      <th>4</th>\n",
              "      <td>346.0</td>\n",
              "      <td>116.513785</td>\n",
              "      <td>39.869796</td>\n",
              "      <td>14</td>\n",
              "      <td>21</td>\n",
              "      <td>60.79</td>\n",
              "      <td>2</td>\n",
              "      <td>1</td>\n",
              "      <td>1</td>\n",
              "      <td>1</td>\n",
              "      <td>1</td>\n",
              "      <td>1995</td>\n",
              "      <td>0.333</td>\n",
              "      <td>0</td>\n",
              "      <td>1</td>\n",
              "      <td>46725</td>\n",
              "    </tr>\n",
              "  </tbody>\n",
              "</table>\n",
              "</div>\n",
              "      <button class=\"colab-df-convert\" onclick=\"convertToInteractive('df-558d0163-e9d8-42aa-82eb-77ec4f26a526')\"\n",
              "              title=\"Convert this dataframe to an interactive table.\"\n",
              "              style=\"display:none;\">\n",
              "        \n",
              "  <svg xmlns=\"http://www.w3.org/2000/svg\" height=\"24px\"viewBox=\"0 0 24 24\"\n",
              "       width=\"24px\">\n",
              "    <path d=\"M0 0h24v24H0V0z\" fill=\"none\"/>\n",
              "    <path d=\"M18.56 5.44l.94 2.06.94-2.06 2.06-.94-2.06-.94-.94-2.06-.94 2.06-2.06.94zm-11 1L8.5 8.5l.94-2.06 2.06-.94-2.06-.94L8.5 2.5l-.94 2.06-2.06.94zm10 10l.94 2.06.94-2.06 2.06-.94-2.06-.94-.94-2.06-.94 2.06-2.06.94z\"/><path d=\"M17.41 7.96l-1.37-1.37c-.4-.4-.92-.59-1.43-.59-.52 0-1.04.2-1.43.59L10.3 9.45l-7.72 7.72c-.78.78-.78 2.05 0 2.83L4 21.41c.39.39.9.59 1.41.59.51 0 1.02-.2 1.41-.59l7.78-7.78 2.81-2.81c.8-.78.8-2.07 0-2.86zM5.41 20L4 18.59l7.72-7.72 1.47 1.35L5.41 20z\"/>\n",
              "  </svg>\n",
              "      </button>\n",
              "      \n",
              "  <style>\n",
              "    .colab-df-container {\n",
              "      display:flex;\n",
              "      flex-wrap:wrap;\n",
              "      gap: 12px;\n",
              "    }\n",
              "\n",
              "    .colab-df-convert {\n",
              "      background-color: #E8F0FE;\n",
              "      border: none;\n",
              "      border-radius: 50%;\n",
              "      cursor: pointer;\n",
              "      display: none;\n",
              "      fill: #1967D2;\n",
              "      height: 32px;\n",
              "      padding: 0 0 0 0;\n",
              "      width: 32px;\n",
              "    }\n",
              "\n",
              "    .colab-df-convert:hover {\n",
              "      background-color: #E2EBFA;\n",
              "      box-shadow: 0px 1px 2px rgba(60, 64, 67, 0.3), 0px 1px 3px 1px rgba(60, 64, 67, 0.15);\n",
              "      fill: #174EA6;\n",
              "    }\n",
              "\n",
              "    [theme=dark] .colab-df-convert {\n",
              "      background-color: #3B4455;\n",
              "      fill: #D2E3FC;\n",
              "    }\n",
              "\n",
              "    [theme=dark] .colab-df-convert:hover {\n",
              "      background-color: #434B5C;\n",
              "      box-shadow: 0px 1px 3px 1px rgba(0, 0, 0, 0.15);\n",
              "      filter: drop-shadow(0px 1px 2px rgba(0, 0, 0, 0.3));\n",
              "      fill: #FFFFFF;\n",
              "    }\n",
              "  </style>\n",
              "\n",
              "      <script>\n",
              "        const buttonEl =\n",
              "          document.querySelector('#df-558d0163-e9d8-42aa-82eb-77ec4f26a526 button.colab-df-convert');\n",
              "        buttonEl.style.display =\n",
              "          google.colab.kernel.accessAllowed ? 'block' : 'none';\n",
              "\n",
              "        async function convertToInteractive(key) {\n",
              "          const element = document.querySelector('#df-558d0163-e9d8-42aa-82eb-77ec4f26a526');\n",
              "          const dataTable =\n",
              "            await google.colab.kernel.invokeFunction('convertToInteractive',\n",
              "                                                     [key], {});\n",
              "          if (!dataTable) return;\n",
              "\n",
              "          const docLinkHtml = 'Like what you see? Visit the ' +\n",
              "            '<a target=\"_blank\" href=https://colab.research.google.com/notebooks/data_table.ipynb>data table notebook</a>'\n",
              "            + ' to learn more about interactive tables.';\n",
              "          element.innerHTML = '';\n",
              "          dataTable['output_type'] = 'display_data';\n",
              "          await google.colab.output.renderOutput(dataTable, element);\n",
              "          const docLink = document.createElement('div');\n",
              "          docLink.innerHTML = docLinkHtml;\n",
              "          element.appendChild(docLink);\n",
              "        }\n",
              "      </script>\n",
              "    </div>\n",
              "  </div>\n",
              "  "
            ]
          },
          "metadata": {},
          "execution_count": 23
        }
      ]
    },
    {
      "cell_type": "code",
      "source": [
        "plt.figure(figsize=(16,8))\n",
        "plt.hist(data[\"totalPrice\"],edgecolor=\"k\")\n",
        "plt.title(\"Histogram for Beijing Housing Prices (10,000 Yuan)\")\n",
        "plt.grid()"
      ],
      "metadata": {
        "colab": {
          "base_uri": "https://localhost:8080/",
          "height": 360
        },
        "id": "3pnkLSeFAkuQ",
        "outputId": "b2647c8b-9e59-4593-fef3-08bcdfc5c63b"
      },
      "execution_count": 30,
      "outputs": [
        {
          "output_type": "display_data",
          "data": {
            "text/plain": [
              "<Figure size 1152x576 with 1 Axes>"
            ],
            "image/png": "[encoded data removed]"
          },
          "metadata": {
            "needs_background": "light"
          }
        }
      ]
    },
    {
      "cell_type": "markdown",
      "source": [
        "Step 3.) Write an observation of the data"
      ],
      "metadata": {
        "id": "AyztDkDGBm2R"
      }
    },
    {
      "cell_type": "markdown",
      "source": [
        "The distributin for Beijing housing prices is not normal distribution and with skewness. The range is about (900,000, 8,500,000). The most common housing price is between 1,500,000 yuan and 4,500,000 yuan."
      ],
      "metadata": {
        "id": "c8ypxCfGBudA"
      }
    }
  ]
}